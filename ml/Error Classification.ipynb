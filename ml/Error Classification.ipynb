{
 "cells": [
  {
   "cell_type": "code",
   "execution_count": 2,
   "metadata": {
    "collapsed": false
   },
   "outputs": [
    {
     "name": "stdout",
     "output_type": "stream",
     "text": [
      "This genome is 4639221 basepairs long\n"
     ]
    }
   ],
   "source": [
    "seq = ''\n",
    "with open('ecoli_k12_genome.fasta') as f:\n",
    "    f.readline() # discard header\n",
    "    for line in f.readlines():\n",
    "        seq += line.strip()\n",
    "        \n",
    "print('This genome is {} basepairs long'.format(len(seq)))"
   ]
  },
  {
   "cell_type": "code",
   "execution_count": 17,
   "metadata": {
    "collapsed": false
   },
   "outputs": [],
   "source": [
    "import numpy as np\n",
    "import subprocess\n",
    "import requests\n",
    "import os\n",
    "import time\n",
    "from IPython.core.display import display, Image \n",
    "import uuid\n",
    "import glob\n",
    "\n",
    "api_url = 'http://140.221.67.148:8000'\n",
    "#api_url = 'http://kbase.us/services/assembly'\n",
    "\n",
    "# play with gc content\n",
    "def calc_gc(s):\n",
    "    gc = 0\n",
    "    for c in s:\n",
    "        if c == 'g' or c == 'c':\n",
    "            gc += 1\n",
    "    return float(gc) / len(s)\n",
    "    \n",
    "def generate_random_genome(genome_size):\n",
    "    from numpy.random.mtrand import RandomState\n",
    "    rand = RandomState()\n",
    "    return rand.choice(['A','T','C','G'], genome_size).tostring()\n",
    "\n",
    "def sim_assembly(genome, out_prefix, assembler_str='spades', insert=180, stdev=0, readlen=100):\n",
    "    dwg_cmd = 'dwgsim/dwgsim -e 0 -E 0.0 -1 {0} -2 {0} -d {1} -s {2} -Q 0 -r 0.0 -y 0.0 {3} {4}'.format(readlen, insert,\n",
    "                                                                                                        stdev, genome, out_prefix)\n",
    "    print dwg_cmd\n",
    "    p = subprocess.Popen(dwg_cmd.split())\n",
    "    p.wait()\n",
    "    arast_cmd = 'arast -s {} run --curl --pair {} {} --reference {} -a {} -m \"err_classification\"'.format(\n",
    "        api_url,\n",
    "        '{}.bwa.read1.fastq'.format(out_prefix),\n",
    "                                    '{}.bwa.read2.fastq'.format(out_prefix), \n",
    "                                    genome, assembler_str)\n",
    "    print arast_cmd\n",
    "    return subprocess.check_output(arast_cmd, shell=True).strip(), genome\n",
    "\n",
    "\n",
    "def parse_job_report(r):\n",
    "    return '\\n'.join(r.split('\\n')[:50])\n",
    "\n",
    "def get_job_report(job_id):\n",
    "    while True:\n",
    "        status = requests.get('{}/user/cbun/job/{}/status'.format(api_url, job_id)).text\n",
    "        if status == 'Complete':\n",
    "            break\n",
    "        time.sleep(5)\n",
    "    requests.get('{}/static/serve/cbun/job/{}'.format(api_url, job_id))\n",
    "    return requests.get('{0}/static/cbun/job/{1}/{1}_report.txt'.format(api_url, job_id)).text\n",
    "\n",
    "\n",
    "\n",
    "def nucmer_filter(ref, asm, prefix, min_align_len=9000, outdir=None, min_len=50):\n",
    "    if not outdir:\n",
    "        outdir = os.getcwd()\n",
    "    cmd = 'nucmer {} {} -p {} -l {} --maxmatch'.format(ref, asm, prefix, min_len)    \n",
    "    p = subprocess.Popen(cmd, shell=True, cwd=outdir)\n",
    "    print cmd\n",
    "    p.wait()\n",
    "    delta_cmd = 'delta-filter -l {0} {1}.delta {1}.filtered.delta'.format(min_align_len, prefix)\n",
    "    print delta_cmd\n",
    "    p = subprocess.Popen(delta_cmd, shell=True, cwd=outdir)\n",
    "    p.wait()\n",
    "    \n",
    "    m_cmd = 'mummerplot {0}.filtered.delta --png -p {0}'.format(prefix)\n",
    "    print m_cmd\n",
    "    p = subprocess.Popen(m_cmd, shell=True, cwd=outdir)\n",
    "    p.wait()\n",
    "    \n",
    "    return '{}.png'.format(prefix), '{}.filtered.delta'.format(prefix)\n",
    "\n",
    "def split_contigs(input_handle, output_handle, sub_contig_len=10000):\n",
    "    from Bio import SeqIO\n",
    "    sub_contigs = []\n",
    "\n",
    "    for record in SeqIO.parse(input_handle, \"fasta\"):\n",
    "        if len(record.seq) > sub_contig_len:\n",
    "            pos = 0\n",
    "            counter = 0\n",
    "            while pos < len(record.seq):\n",
    "                sub_contig = record[pos:pos+sub_contig_len]\n",
    "                sub_contig.id += '.{}'.format(counter)\n",
    "                #print sub_contig.id\n",
    "                sub_contigs.append(sub_contig)\n",
    "                pos += sub_contig_len\n",
    "                counter += 1\n",
    "\n",
    "    SeqIO.write(sub_contigs, output_handle, \"fasta\")\n",
    "\n",
    "\n",
    "\n",
    "def analyze_job(job_id, genome, min_aln_len=20):\n",
    "    report = get_job_report(job_id)\n",
    "    wd = os.path.join(os.getcwd(), '{}_{}'.format(job_id, uuid.uuid4()))\n",
    "    contig_dir = os.path.join(wd, 'contigs')\n",
    "    os.makedirs(contig_dir)\n",
    "    cmd = 'arast -s {} get -j {} -a -o {}'.format(api_url, job_id, contig_dir)\n",
    "    subprocess.check_output(cmd, shell=True)\n",
    "    print subprocess.check_output(cmd, shell=True)\n",
    "    pngs = []\n",
    "    for f in os.listdir(contig_dir):\n",
    "        contig = os.path.join(contig_dir, f)\n",
    "        split_fa = os.path.join(contig_dir, 'split.{}'.format(f))\n",
    "        split_contigs(contig, split_fa)\n",
    "        nucmer_filter(genome, split_fa, split_fa)\n",
    "        pngs = glob.glob(wd + '/*.png')\n",
    "    return report, pngs"
   ]
  },
  {
   "cell_type": "code",
   "execution_count": 8,
   "metadata": {
    "collapsed": false
   },
   "outputs": [
    {
     "name": "stdout",
     "output_type": "stream",
     "text": [
      "dwgsim/dwgsim -e 0 -E 0.0 -1 100 -2 100 -d 180 -s 0 -Q 0 -r 0.0 -y 0.0 ./ecoli_k12_genome.fasta sim_e\n",
      "arast -s http://140.221.67.148:8000 run --curl --pair sim_e.bwa.read1.fastq sim_e.bwa.read2.fastq --reference ./ecoli_k12_genome.fasta -a spades -m \"err_classification\"\n"
     ]
    },
    {
     "data": {
      "text/plain": [
       "('Job ID: 1220', './ecoli_k12_genome.fasta')"
      ]
     },
     "execution_count": 8,
     "metadata": {},
     "output_type": "execute_result"
    }
   ],
   "source": [
    "g = './ecoli_k12_genome.fasta'\n",
    "sim_assembly(g, 'sim_e', assembler_str='spades', insert=180, stdev=0, readlen=100)"
   ]
  },
  {
   "cell_type": "code",
   "execution_count": 18,
   "metadata": {
    "collapsed": false
   },
   "outputs": [
    {
     "name": "stdout",
     "output_type": "stream",
     "text": [
      "\n",
      "nucmer ./ecoli_k12_genome.fasta /Users/cbun/Development/ipython/1220_e3fd4938-9310-4674-ac0e-504f9508958c/contigs/split.1220_1.spades_contigs.fasta -p /Users/cbun/Development/ipython/1220_e3fd4938-9310-4674-ac0e-504f9508958c/contigs/split.1220_1.spades_contigs.fasta -l 50 --maxmatch\n",
      "delta-filter -l 9000 /Users/cbun/Development/ipython/1220_e3fd4938-9310-4674-ac0e-504f9508958c/contigs/split.1220_1.spades_contigs.fasta.delta /Users/cbun/Development/ipython/1220_e3fd4938-9310-4674-ac0e-504f9508958c/contigs/split.1220_1.spades_contigs.fasta.filtered.delta\n",
      "mummerplot /Users/cbun/Development/ipython/1220_e3fd4938-9310-4674-ac0e-504f9508958c/contigs/split.1220_1.spades_contigs.fasta.filtered.delta --png -p /Users/cbun/Development/ipython/1220_e3fd4938-9310-4674-ac0e-504f9508958c/contigs/split.1220_1.spades_contigs.fasta\n"
     ]
    },
    {
     "data": {
      "text/plain": [
       "(u'<!DOCTYPE html PUBLIC\\n\"-//W3C//DTD XHTML 1.0 Transitional//EN\"\\n\"http://www.w3.org/TR/xhtml1/DTD/xhtml1-transitional.dtd\">\\n<html>\\n<head>\\n    <meta http-equiv=\"Content-Type\" content=\"text/html; charset=utf-8\"></meta>\\n    <title>404 Not Found</title>\\n    <style type=\"text/css\">\\n    #powered_by {\\n        margin-top: 20px;\\n        border-top: 2px solid black;\\n        font-style: italic;\\n    }\\n\\n    #traceback {\\n        color: red;\\n    }\\n    </style>\\n</head>\\n    <body>\\n        <h2>404 Not Found</h2>\\n        <p>Nothing matches the given URI</p>\\n        <pre id=\"traceback\"></pre>\\n    <div id=\"powered_by\">\\n      <span>\\n        Powered by <a href=\"http://www.cherrypy.org\">CherryPy 3.7.0</a>\\n      </span>\\n    </div>\\n    </body>\\n</html>\\n',\n",
       " [])"
      ]
     },
     "execution_count": 18,
     "metadata": {},
     "output_type": "execute_result"
    }
   ],
   "source": [
    "analyze_job(1220, './ecoli_k12_genome.fasta')"
   ]
  }
 ],
 "metadata": {
  "kernelspec": {
   "display_name": "Python 2",
   "language": "python",
   "name": "python2"
  },
  "language_info": {
   "codemirror_mode": {
    "name": "ipython",
    "version": 2
   },
   "file_extension": ".py",
   "mimetype": "text/x-python",
   "name": "python",
   "nbconvert_exporter": "python",
   "pygments_lexer": "ipython2",
   "version": "2.7.9"
  }
 },
 "nbformat": 4,
 "nbformat_minor": 0
}
