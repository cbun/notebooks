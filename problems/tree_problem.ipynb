{
 "cells": [
  {
   "cell_type": "markdown",
   "metadata": {},
   "source": [
    "#### Objective:\n",
    "Write a Java function, printTree(), which prints a given tree to stdout.  Details:\n",
    "The argument of printTree is a stream of pairs of string values.\n",
    "Each string found anywhere in the input represents a unique node.\n",
    "Each item in the stream is a pair indicating a parent/child relationship in the tree.  The first element in the pair is the parent.  The second element in the pair is the child.\n",
    "Each parent can have many children.\n",
    "The input list may contain relationship pairs in any order, although:\n",
    "The order in which the pairs appear in the input list determines the nodes’ order with respect to its siblings.\n",
    "\n",
    "```\n",
    "Code:\n",
    "public class TreePrinter {\n",
    "public static void printTree(Collection<Pair<String, String>> nodePairs) {\t\n",
    "// insert code here\n",
    "\n",
    "}\n",
    "\n",
    "public static class Pair<T,U> {\n",
    "\tT first; U second;\n",
    "\tpublic static <T,U> Pair<T,U> of(T t, U u) { ... }\n",
    "}\n",
    "```\n",
    "\n",
    "Example input:\n",
    "```\n",
    "List<Pair<String, String>> input = new ArrayList();\n",
    "\n",
    "input.add(Pair.of(“animal”, “mammal”));\n",
    "input.add(Pair.of(“animal”, “bird”));\n",
    "input.add(Pair.of(“lifeform”, “animal”));\n",
    "input.add(Pair.of(“cat”, “lion”));\n",
    "input.add(Pair.of(“mammal”, “cat”));\n",
    "input.add(Pair.of(“animal”, “fish”));\n",
    "\n",
    "TreePrinter.printTree(input);\n",
    "```\n",
    "Expected output:\n",
    "```\n",
    "lifeform\n",
    "\tanimal\n",
    "\t\tmammal\n",
    "\t\t\tcat\n",
    "\t\t\t\tlion\n",
    "\t\tbird\n",
    "\t\tfish\n",
    "```\n",
    "\n",
    "\n"
   ]
  },
  {
   "cell_type": "code",
   "execution_count": 3,
   "metadata": {
    "collapsed": false
   },
   "outputs": [
    {
     "name": "stdout",
     "output_type": "stream",
     "text": [
      " lifeform\n",
      "     animal\n",
      "         mammal\n",
      "             cat\n",
      "                 lion\n",
      "         bird\n",
      "         fish\n"
     ]
    }
   ],
   "source": [
    "from collections import defaultdict\n",
    "\n",
    "input = [('animal', 'mammal'),\n",
    "         ('animal', 'bird'),\n",
    "         ('lifeform', 'animal'),\n",
    "         ('cat', 'lion'),\n",
    "         ('mammal', 'cat'),\n",
    "         ('animal', 'fish')]\n",
    "\n",
    "def print_tree(input):\n",
    "    # First pass populates dictionary\n",
    "    relationships = defaultdict(list)\n",
    "    children = set()\n",
    "    all_members = set()\n",
    "    for parent,child in input:\n",
    "        relationships[parent].append(child)\n",
    "        children.add(child)\n",
    "        all_members.add(child)\n",
    "        all_members.add(parent)\n",
    "        \n",
    "    # Find member without a parent\n",
    "    tree_root = (all_members ^ children).pop()\n",
    "    \n",
    "    def traverse_tree(root, indent_level=0):\n",
    "        print ' ' * 4 * indent_level, root\n",
    "        for child in relationships[root]:\n",
    "            traverse_tree(child, indent_level + 1)\n",
    "    traverse_tree(tree_root)\n",
    "    \n",
    "print_tree(input)"
   ]
  }
 ],
 "metadata": {
  "kernelspec": {
   "display_name": "Python 2",
   "language": "python",
   "name": "python2"
  },
  "language_info": {
   "codemirror_mode": {
    "name": "ipython",
    "version": 2
   },
   "file_extension": ".py",
   "mimetype": "text/x-python",
   "name": "python",
   "nbconvert_exporter": "python",
   "pygments_lexer": "ipython2",
   "version": "2.7.9"
  }
 },
 "nbformat": 4,
 "nbformat_minor": 0
}
