{
 "cells": [
  {
   "cell_type": "code",
   "execution_count": 34,
   "metadata": {
    "collapsed": false,
    "tags": [
     "worksheet-0"
    ]
   },
   "outputs": [
    {
     "name": "stdout",
     "output_type": "stream",
     "text": [
      "East Division: ['Victorious Secret', 'Vicious', 'CBun', 'Chris Buns Team', 'Ayodele', 'Direwolves']\n",
      "West Division: ['Left Shark', 'Philly', 'Loser', 'BBun', 'Nguyen', 'RookieSquad']\n",
      "Draft Order:\n",
      "1: Philly\n",
      "2: Ayodele\n",
      "3: RookieSquad\n",
      "4: CBun\n",
      "5: Loser\n",
      "6: BBun\n",
      "7: Direwolves\n",
      "8: Chris Buns Team\n",
      "9: Left Shark\n",
      "10: Nguyen\n",
      "11: Vicious\n",
      "12: Victorious Secret\n"
     ]
    }
   ],
   "source": [
    "from random import shuffle\n",
    "teams = [1,2,3,4,5,6,7,8,9,10,11,12]\n",
    "team_names = ['RookieSquad', 'Direwolves', 'CBun', 'Philly', 'Vicious', 'Nguyen', 'Chris Buns Team', 'Loser', 'Left Shark', 'Ayodele', 'Victorious Secret', 'BBun']\n",
    "shuffle(team_names)\n",
    "\n",
    "\n",
    "def run(iterations):\n",
    "    for i in range(iterations):\n",
    "        shuffle(team_names)\n",
    "    print 'East Division: {}'.format(team_names[:6])\n",
    "    print 'West Division: {}'.format(team_names[6:])\n",
    "\n",
    "    for i in range(iterations):\n",
    "        shuffle(team_names)\n",
    "    print 'Draft Order:'\n",
    "    for i,t in enumerate(team_names):\n",
    "        print '{}: {}'.format(i+1, t)\n",
    "\n",
    "run(4)\n",
    "        "
   ]
  }
 ],
 "metadata": {},
 "nbformat": 4,
 "nbformat_minor": 0
}
